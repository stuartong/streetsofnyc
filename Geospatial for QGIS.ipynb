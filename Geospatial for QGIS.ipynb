{
 "cells": [
  {
   "cell_type": "code",
   "execution_count": 1,
   "metadata": {},
   "outputs": [
    {
     "name": "stdout",
     "output_type": "stream",
     "text": [
      "INFO: Pandarallel will run on 4 workers.\n",
      "INFO: Pandarallel will use standard multiprocessing data transfer (pipe) to transfer data between the main process and workers.\n"
     ]
    }
   ],
   "source": [
    "import pandas as pd\n",
    "import numpy as np\n",
    "import feather\n",
    "import pickle\n",
    "import re\n",
    "import sqlite3\n",
    "import spatialite\n",
    "import shapely.wkb\n",
    "import shapely.wkt\n",
    "from shapely.geometry import *\n",
    "\n",
    "# optional libs to run other non-core code\n",
    "from polyfuzz import PolyFuzz\n",
    "from polyfuzz.models import EditDistance, TFIDF, Embeddings\n",
    "from flair.embeddings import TransformerWordEmbeddings\n",
    "import geopandas as gpd\n",
    "\n",
    "# note pandarallel works well on mac but has issue with windows\n",
    "# see requirements for windows  - https://github.com/nalepae/pandarallel\n",
    "from pandarallel import pandarallel\n",
    "pandarallel.initialize(progress_bar=True)\n",
    "\n",
    "pd.options.display.max_columns = None\n",
    "pd.set_option('display.float_format', lambda x: '%.6f' % x)\n",
    "\n",
    "# connect to the database\n",
    "# note: connects to/creates a db file with the name in the quotes if does not exist\n",
    "db_name='streetsofnyc_spatial.db'\n",
    "con = sqlite3.connect(db_name)    # for regular SQL\n",
    "spatcon = spatialite.connect(db_name)    # for spatial SQL\n",
    "cur = con.cursor()"
   ]
  },
  {
   "cell_type": "code",
   "execution_count": 5,
   "metadata": {},
   "outputs": [
    {
     "name": "stdout",
     "output_type": "stream",
     "text": [
      "CPU times: user 1min 27s, sys: 2min 13s, total: 3min 41s\n",
      "Wall time: 23min 10s\n"
     ]
    }
   ],
   "source": [
    "%%time\n",
    "\n",
    "query='''\n",
    "Select `Summons Number`, lat, lon from ticketstreetdem\n",
    "'''\n",
    "\n",
    "result = pd.read_sql(query,spatcon)"
   ]
  },
  {
   "cell_type": "code",
   "execution_count": 7,
   "metadata": {},
   "outputs": [],
   "source": [
    "# result.to_feather('Geospatial_conversion/summonlatlonall.feather')"
   ]
  },
  {
   "cell_type": "code",
   "execution_count": 2,
   "metadata": {},
   "outputs": [],
   "source": [
    "result=pd.read_feather('Geospatial_conversion/summonlatlonall.feather')"
   ]
  },
  {
   "cell_type": "code",
   "execution_count": 3,
   "metadata": {},
   "outputs": [],
   "source": [
    "# convert dataframe to GeoDataFrame to get Point Geom from Lat Lon columns\n",
    "\n",
    "gdf = gpd.GeoDataFrame(result,geometry=gpd.points_from_xy(result.lon,result.lat))"
   ]
  },
  {
   "cell_type": "code",
   "execution_count": 4,
   "metadata": {},
   "outputs": [],
   "source": [
    "# Convert each shapely geometry into WKT representation\n",
    "\n",
    "records = [\n",
    "    {'Summons Number': gdf['Summons Number'].iloc[i],'wkb':shapely.wkt.dumps(gdf['geometry'].iloc[i])}\n",
    "    for i in range(gdf.shape[0])\n",
    "]"
   ]
  },
  {
   "cell_type": "code",
   "execution_count": 5,
   "metadata": {},
   "outputs": [],
   "source": [
    "# Create tuple of tuples for query parameter (for batch update with executemany)\n",
    "\n",
    "tuples = tuple((d['wkb'],d['Summons Number'].astype(str)) for d in records)"
   ]
  },
  {
   "cell_type": "code",
   "execution_count": null,
   "metadata": {},
   "outputs": [],
   "source": [
    "with open('Geospatial_conversion/ticket_tuple.pickle','wb') as f:\n",
    "    pickle.dump(tuples,f)"
   ]
  },
  {
   "cell_type": "code",
   "execution_count": 7,
   "metadata": {},
   "outputs": [
    {
     "data": {
      "text/plain": [
       "<sqlite3.Cursor at 0x7fa4cff74b90>"
      ]
     },
     "execution_count": 7,
     "metadata": {},
     "output_type": "execute_result"
    }
   ],
   "source": [
    "# Then add new column to store geometry\n",
    "\n",
    "con.enable_load_extension(True)\n",
    "con.load_extension('mod_spatialite')\n",
    "con.execute('SELECT InitSpatialMetaData(1);')\n",
    "con.execute(\n",
    "    '''\n",
    "    SELECT AddGeometryColumn('ticketstreetdem','wkb_geometry',4326,'POINT',2);\n",
    "    '''\n",
    ")"
   ]
  },
  {
   "cell_type": "code",
   "execution_count": 8,
   "metadata": {},
   "outputs": [
    {
     "data": {
      "text/plain": [
       "<sqlite3.Cursor at 0x7fa4cff74dc0>"
      ]
     },
     "execution_count": 8,
     "metadata": {},
     "output_type": "execute_result"
    }
   ],
   "source": [
    "con.execute(\"CREATE INDEX  `Summons Number` ON ticketstreetdem(`Summons Number`)\")"
   ]
  },
  {
   "cell_type": "code",
   "execution_count": 9,
   "metadata": {},
   "outputs": [
    {
     "name": "stdout",
     "output_type": "stream",
     "text": [
      "CPU times: user 22min 22s, sys: 24min 55s, total: 47min 18s\n",
      "Wall time: 1h 48min 29s\n"
     ]
    }
   ],
   "source": [
    "%%time\n",
    "\n",
    "\n",
    "# update geometry\n",
    "\n",
    "\n",
    "with sqlite3.connect(db_name) as conn:\n",
    "    conn.enable_load_extension(True)\n",
    "    conn.load_extension(\"mod_spatialite\")\n",
    "    conn.executemany(\n",
    "        \"\"\"\n",
    "        UPDATE ticketstreetdem\n",
    "        SET wkb_geometry=ST_PointFromText(? , 4326)\n",
    "        WHERE ticketstreetdem.`Summons Number` = ?;\n",
    "        \"\"\", tuples\n",
    "    )\n",
    "\n"
   ]
  },
  {
   "cell_type": "code",
   "execution_count": 10,
   "metadata": {},
   "outputs": [
    {
     "data": {
      "text/plain": [
       "<sqlite3.Cursor at 0x7fa4cff74b20>"
      ]
     },
     "execution_count": 10,
     "metadata": {},
     "output_type": "execute_result"
    }
   ],
   "source": [
    "# Create a spatial index\n",
    "spatcon.execute(\"SELECT CreateSpatialIndex('ticketstreetdem','wkb_geometry')\")"
   ]
  },
  {
   "cell_type": "code",
   "execution_count": 4,
   "metadata": {},
   "outputs": [
    {
     "data": {
      "text/plain": [
       "<sqlite3.Cursor at 0x7fea2d5c9110>"
      ]
     },
     "execution_count": 4,
     "metadata": {},
     "output_type": "execute_result"
    }
   ],
   "source": [
    "spatcon.execute('DROP TABLE IF EXISTS ticketstreetdem19')\n",
    "\n",
    "spatcon.execute(\n",
    "    '''\n",
    "    CREATE TABLE IF NOT EXISTS ticketstreetdem19 AS\n",
    "    SELECT * \n",
    "    FROM ticketstreetdem\n",
    "    WHERE `ISSUE DATE` LIKE '%2019%'\n",
    "    '''\n",
    ")\n",
    "spatcon.execute(\"SELECT RecoverGeometryColumn('ticketstreetdem19','wkb_geometry',4326,'POINT',2)\")\n",
    "spatcon.execute(\"SELECT CreateSpatialIndex('ticketstreetdem19','wkb_geometry')\")"
   ]
  },
  {
   "cell_type": "code",
   "execution_count": 5,
   "metadata": {},
   "outputs": [
    {
     "data": {
      "text/plain": [
       "<sqlite3.Cursor at 0x7fea2d5e9340>"
      ]
     },
     "execution_count": 5,
     "metadata": {},
     "output_type": "execute_result"
    }
   ],
   "source": [
    "spatcon.execute('DROP TABLE IF EXISTS ticketstreetdem20')\n",
    "\n",
    "spatcon.execute(\n",
    "    '''\n",
    "    CREATE TABLE IF NOT EXISTS ticketstreetdem20 AS\n",
    "    SELECT * \n",
    "    FROM ticketstreetdem\n",
    "    WHERE `ISSUE DATE` LIKE '%2020%'\n",
    "    '''\n",
    ")\n",
    "spatcon.execute(\"SELECT RecoverGeometryColumn('ticketstreetdem20','wkb_geometry',4326,'POINT',2)\")\n",
    "spatcon.execute(\"SELECT CreateSpatialIndex('ticketstreetdem20','wkb_geometry')\")"
   ]
  },
  {
   "cell_type": "code",
   "execution_count": 2,
   "metadata": {},
   "outputs": [
    {
     "data": {
      "text/plain": [
       "<sqlite3.Cursor at 0x7f853e3450a0>"
      ]
     },
     "execution_count": 2,
     "metadata": {},
     "output_type": "execute_result"
    }
   ],
   "source": [
    "con.execute(\"CREATE INDEX  tix_cat20 ON ticketstreetdem20(`Ticket Category`)\")\n",
    "con.execute(\"CREATE INDEX  tix_cat19 ON ticketstreetdem19(`Ticket Category`)\")"
   ]
  },
  {
   "cell_type": "code",
   "execution_count": 3,
   "metadata": {},
   "outputs": [
    {
     "name": "stdout",
     "output_type": "stream",
     "text": [
      "CPU times: user 2min 2s, sys: 59.6 s, total: 3min 1s\n",
      "Wall time: 7min 28s\n"
     ]
    },
    {
     "data": {
      "text/plain": [
       "<sqlite3.Cursor at 0x7f852b0d1340>"
      ]
     },
     "execution_count": 3,
     "metadata": {},
     "output_type": "execute_result"
    }
   ],
   "source": [
    "%%time\n",
    "spatcon.execute('DROP TABLE IF EXISTS ticketstreetdem20tc1')\n",
    "\n",
    "spatcon.execute(\n",
    "    '''\n",
    "    CREATE TABLE IF NOT EXISTS ticketstreetdem20tc1 AS\n",
    "    SELECT * \n",
    "    FROM ticketstreetdem20\n",
    "    WHERE `Ticket Category` = 1\n",
    "    '''\n",
    ")\n",
    "spatcon.execute(\"SELECT RecoverGeometryColumn('ticketstreetdem20tc1','wkb_geometry',4326,'POINT',2)\")\n",
    "spatcon.execute(\"SELECT CreateSpatialIndex('ticketstreetdem20tc1','wkb_geometry')\")"
   ]
  },
  {
   "cell_type": "code",
   "execution_count": 4,
   "metadata": {},
   "outputs": [
    {
     "name": "stdout",
     "output_type": "stream",
     "text": [
      "CPU times: user 2min 14s, sys: 1min 6s, total: 3min 21s\n",
      "Wall time: 7min 16s\n"
     ]
    },
    {
     "data": {
      "text/plain": [
       "<sqlite3.Cursor at 0x7f852b0d1570>"
      ]
     },
     "execution_count": 4,
     "metadata": {},
     "output_type": "execute_result"
    }
   ],
   "source": [
    "%%time\n",
    "spatcon.execute('DROP TABLE IF EXISTS ticketstreetdem19tc1')\n",
    "\n",
    "spatcon.execute(\n",
    "    '''\n",
    "    CREATE TABLE IF NOT EXISTS ticketstreetdem19tc1 AS\n",
    "    SELECT * \n",
    "    FROM ticketstreetdem19\n",
    "    WHERE `Ticket Category` = 1\n",
    "    '''\n",
    ")\n",
    "spatcon.execute(\"SELECT RecoverGeometryColumn('ticketstreetdem19tc1','wkb_geometry',4326,'POINT',2)\")\n",
    "spatcon.execute(\"SELECT CreateSpatialIndex('ticketstreetdem19tc1','wkb_geometry')\")"
   ]
  },
  {
   "cell_type": "code",
   "execution_count": 5,
   "metadata": {},
   "outputs": [
    {
     "name": "stdout",
     "output_type": "stream",
     "text": [
      "CPU times: user 1min 23s, sys: 30.4 s, total: 1min 53s\n",
      "Wall time: 3min 56s\n"
     ]
    },
    {
     "data": {
      "text/plain": [
       "<sqlite3.Cursor at 0x7f852b0d1490>"
      ]
     },
     "execution_count": 5,
     "metadata": {},
     "output_type": "execute_result"
    }
   ],
   "source": [
    "%%time\n",
    "spatcon.execute('DROP TABLE IF EXISTS ticketstreetdem20tc7')\n",
    "\n",
    "spatcon.execute(\n",
    "    '''\n",
    "    CREATE TABLE IF NOT EXISTS ticketstreetdem20tc7 AS\n",
    "    SELECT * \n",
    "    FROM ticketstreetdem20\n",
    "    WHERE `Ticket Category` = 7\n",
    "    '''\n",
    ")\n",
    "spatcon.execute(\"SELECT RecoverGeometryColumn('ticketstreetdem20tc7','wkb_geometry',4326,'POINT',2)\")\n",
    "spatcon.execute(\"SELECT CreateSpatialIndex('ticketstreetdem20tc7','wkb_geometry')\")"
   ]
  },
  {
   "cell_type": "code",
   "execution_count": 2,
   "metadata": {},
   "outputs": [
    {
     "name": "stdout",
     "output_type": "stream",
     "text": [
      "CPU times: user 9.21 s, sys: 10.9 s, total: 20.1 s\n",
      "Wall time: 1min 32s\n"
     ]
    },
    {
     "data": {
      "text/plain": [
       "<sqlite3.Cursor at 0x7ffa2afd2340>"
      ]
     },
     "execution_count": 2,
     "metadata": {},
     "output_type": "execute_result"
    }
   ],
   "source": [
    "%%time\n",
    "spatcon.execute('DROP TABLE IF EXISTS ticketstreetdem19tc7')\n",
    "\n",
    "spatcon.execute(\n",
    "    '''\n",
    "    CREATE TABLE IF NOT EXISTS ticketstreetdem19tc7 AS\n",
    "    SELECT * \n",
    "    FROM ticketstreetdem19\n",
    "    WHERE `Ticket Category` = 7\n",
    "    '''\n",
    ")\n",
    "spatcon.execute(\"SELECT RecoverGeometryColumn('ticketstreetdem19tc7','wkb_geometry',4326,'POINT',2)\")\n",
    "spatcon.execute(\"SELECT CreateSpatialIndex('ticketstreetdem19tc7','wkb_geometry')\")"
   ]
  },
  {
   "cell_type": "code",
   "execution_count": null,
   "metadata": {},
   "outputs": [],
   "source": []
  },
  {
   "cell_type": "code",
   "execution_count": null,
   "metadata": {},
   "outputs": [],
   "source": []
  },
  {
   "cell_type": "code",
   "execution_count": null,
   "metadata": {},
   "outputs": [],
   "source": []
  },
  {
   "cell_type": "code",
   "execution_count": null,
   "metadata": {},
   "outputs": [],
   "source": []
  },
  {
   "cell_type": "code",
   "execution_count": null,
   "metadata": {},
   "outputs": [],
   "source": []
  },
  {
   "cell_type": "code",
   "execution_count": null,
   "metadata": {},
   "outputs": [],
   "source": []
  },
  {
   "cell_type": "code",
   "execution_count": null,
   "metadata": {},
   "outputs": [],
   "source": [
    "%%time\n",
    "\n",
    "query='''\n",
    "Select * FROM ticketstreetdem19tc7\n",
    "'''\n",
    "\n",
    "result = pd.read_sql(query,spatcon)"
   ]
  },
  {
   "cell_type": "code",
   "execution_count": 8,
   "metadata": {},
   "outputs": [
    {
     "data": {
      "text/html": [
       "<div>\n",
       "<style scoped>\n",
       "    .dataframe tbody tr th:only-of-type {\n",
       "        vertical-align: middle;\n",
       "    }\n",
       "\n",
       "    .dataframe tbody tr th {\n",
       "        vertical-align: top;\n",
       "    }\n",
       "\n",
       "    .dataframe thead th {\n",
       "        text-align: right;\n",
       "    }\n",
       "</style>\n",
       "<table border=\"1\" class=\"dataframe\">\n",
       "  <thead>\n",
       "    <tr style=\"text-align: right;\">\n",
       "      <th></th>\n",
       "      <th>count(*)</th>\n",
       "    </tr>\n",
       "  </thead>\n",
       "  <tbody>\n",
       "    <tr>\n",
       "      <th>0</th>\n",
       "      <td>2739973</td>\n",
       "    </tr>\n",
       "  </tbody>\n",
       "</table>\n",
       "</div>"
      ],
      "text/plain": [
       "   count(*)\n",
       "0   2739973"
      ]
     },
     "execution_count": 8,
     "metadata": {},
     "output_type": "execute_result"
    }
   ],
   "source": [
    "result"
   ]
  },
  {
   "cell_type": "code",
   "execution_count": 4,
   "metadata": {},
   "outputs": [],
   "source": [
    "# convert dataframe to GeoDataFrame to get Point Geom from Lat Lon columns\n",
    "\n",
    "gdf = gpd.GeoDataFrame(result,geometry=gpd.points_from_xy(result.lon,result.lat))\n",
    "\n",
    "# Convert each shapely geometry into WKT representation\n",
    "\n",
    "records = [\n",
    "    {'collision_id': gdf['collision_id'].iloc[i],'wkb':shapely.wkt.dumps(gdf['geometry'].iloc[i])}\n",
    "    for i in range(gdf.shape[0])\n",
    "]\n",
    "\n",
    "# Create tuple of tuples for query parameter (for batch update with executemany)\n",
    "\n",
    "tuples = tuple((d['wkb'],d['collision_id'].astype(str)) for d in records)"
   ]
  },
  {
   "cell_type": "code",
   "execution_count": null,
   "metadata": {},
   "outputs": [],
   "source": [
    "# Then add new column to store geometry\n",
    "\n",
    "con.enable_load_extension(True)\n",
    "con.load_extension('mod_spatialite')\n",
    "con.execute('SELECT InitSpatialMetaData(1);')\n",
    "con.execute(\n",
    "    '''\n",
    "    SELECT AddGeometryColumn('collisionstreetdem','wkb_geometry',4326,'POINT',2);\n",
    "    '''\n",
    ")"
   ]
  },
  {
   "cell_type": "code",
   "execution_count": 6,
   "metadata": {},
   "outputs": [
    {
     "ename": "OperationalError",
     "evalue": "index collision_id already exists",
     "output_type": "error",
     "traceback": [
      "\u001b[0;31m---------------------------------------------------------------------------\u001b[0m",
      "\u001b[0;31mOperationalError\u001b[0m                          Traceback (most recent call last)",
      "\u001b[0;32m<ipython-input-6-99add715df9d>\u001b[0m in \u001b[0;36m<module>\u001b[0;34m\u001b[0m\n\u001b[0;32m----> 1\u001b[0;31m \u001b[0mcon\u001b[0m\u001b[0;34m.\u001b[0m\u001b[0mexecute\u001b[0m\u001b[0;34m(\u001b[0m\u001b[0;34m\"CREATE INDEX  collision_id ON collisionstreetdem(collision_id)\"\u001b[0m\u001b[0;34m)\u001b[0m\u001b[0;34m\u001b[0m\u001b[0;34m\u001b[0m\u001b[0m\n\u001b[0m",
      "\u001b[0;31mOperationalError\u001b[0m: index collision_id already exists"
     ]
    }
   ],
   "source": [
    "con.execute(\"CREATE INDEX  collision_id ON collisionstreetdem(collision_id)\")"
   ]
  },
  {
   "cell_type": "code",
   "execution_count": 9,
   "metadata": {},
   "outputs": [
    {
     "name": "stdout",
     "output_type": "stream",
     "text": [
      "CPU times: user 11.6 s, sys: 15.1 s, total: 26.7 s\n",
      "Wall time: 34.3 s\n"
     ]
    }
   ],
   "source": [
    "%%time\n",
    "\n",
    "\n",
    "# update geometry\n",
    "\n",
    "\n",
    "with sqlite3.connect(db_name) as conn:\n",
    "    conn.enable_load_extension(True)\n",
    "    conn.load_extension(\"mod_spatialite\")\n",
    "    conn.executemany(\n",
    "        \"\"\"\n",
    "        UPDATE collisionstreetdem\n",
    "        SET wkb_geometry=ST_PointFromText(? , 4326)\n",
    "        WHERE collisionstreetdem.collision_id = ?;\n",
    "        \"\"\", tuples\n",
    "    )"
   ]
  },
  {
   "cell_type": "code",
   "execution_count": 10,
   "metadata": {},
   "outputs": [
    {
     "data": {
      "text/plain": [
       "<sqlite3.Cursor at 0x7ff11f111570>"
      ]
     },
     "execution_count": 10,
     "metadata": {},
     "output_type": "execute_result"
    }
   ],
   "source": [
    "# Create a spatial index\n",
    "spatcon.execute(\"SELECT CreateSpatialIndex('collisionstreetdem','wkb_geometry')\")"
   ]
  },
  {
   "cell_type": "code",
   "execution_count": null,
   "metadata": {},
   "outputs": [],
   "source": []
  }
 ],
 "metadata": {
  "kernelspec": {
   "display_name": "Python 3",
   "language": "python",
   "name": "python3"
  },
  "language_info": {
   "codemirror_mode": {
    "name": "ipython",
    "version": 3
   },
   "file_extension": ".py",
   "mimetype": "text/x-python",
   "name": "python",
   "nbconvert_exporter": "python",
   "pygments_lexer": "ipython3",
   "version": "3.7.4"
  }
 },
 "nbformat": 4,
 "nbformat_minor": 2
}
